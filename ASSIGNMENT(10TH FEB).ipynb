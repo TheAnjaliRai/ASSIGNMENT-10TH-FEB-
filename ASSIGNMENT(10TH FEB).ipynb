{
 "cells": [
  {
   "cell_type": "code",
   "execution_count": 1,
   "id": "7185b2a5",
   "metadata": {},
   "outputs": [],
   "source": [
    "# ques1\n",
    "# open() function is used to open a file\n",
    "# there are 6 modes to open a file\n",
    "# \"r\" - read mode - open the file for reading, if the file does not exit , error is raised ,overwritten\n",
    "# \"w\" - write mode - open the file for writing. if the file doest not exist, then a new file is created\n",
    "# \"r+\"-read and write mode - file must exit , else error is raised, both read and write works\n",
    "# \"w+\" -both write and read - craete new file if file is not there and performs read and write operation , overwritten\n",
    "# \"a\" - append mode - same as write but data is not overwritten but appended\n",
    "# \"+a\" - append and read mode -both read and append mode"
   ]
  },
  {
   "cell_type": "code",
   "execution_count": 2,
   "id": "f08aa837",
   "metadata": {},
   "outputs": [],
   "source": [
    "# ques2\n",
    "# close() function is used to close the file we have previously opened.\n",
    "# it is important to close a file as files are limited resources managed by the operating system\n",
    "# making sure files are close after use will protect against hard-to-debug issues like running out of file handles or experiencing corrupted files\n"
   ]
  },
  {
   "cell_type": "code",
   "execution_count": 3,
   "id": "ca02d845",
   "metadata": {},
   "outputs": [
    {
     "name": "stdout",
     "output_type": "stream",
     "text": [
      "I want to become a data scientist\n"
     ]
    }
   ],
   "source": [
    "# ques3\n",
    "f = open('textfile.txt' ,'w')\n",
    "f.write(\"I want to become a data scientist\")\n",
    "f.close()\n",
    "f = open('textfile.txt' ,'r')\n",
    "print(f.read())"
   ]
  },
  {
   "cell_type": "code",
   "execution_count": 22,
   "id": "bf7f69b8",
   "metadata": {},
   "outputs": [
    {
     "name": "stdout",
     "output_type": "stream",
     "text": [
      "I want to become a data scientist . \n",
      "my name is anjali\n"
     ]
    }
   ],
   "source": [
    "# ques4\n",
    "f1 = open('textfile1.txt' ,'w')\n",
    "f1.write(\"I want to become a data scientist .\\n my name is anjali\")\n",
    "f1.close()\n",
    "f1 = open('textfile.txt' ,'r')\n",
    "print(f1.read())"
   ]
  },
  {
   "cell_type": "code",
   "execution_count": 23,
   "id": "33bf9ce0",
   "metadata": {},
   "outputs": [
    {
     "name": "stdout",
     "output_type": "stream",
     "text": [
      "['I want to become a data scientist .\\n', ' my name is anjali']\n"
     ]
    }
   ],
   "source": [
    "# readlines -prints every lines of the file as element of list\n",
    "with open('textfile1.txt' ,'r') as f2:\n",
    "    f_content = f2.readlines()\n",
    "    print(f_content)  "
   ]
  },
  {
   "cell_type": "code",
   "execution_count": 25,
   "id": "10e063c3",
   "metadata": {},
   "outputs": [
    {
     "name": "stdout",
     "output_type": "stream",
     "text": [
      "I want to become a data scientist .\n",
      "\n",
      " my name is anjali\n"
     ]
    }
   ],
   "source": [
    "# readline-print single line at a time\n",
    "with open('textfile1.txt' ,'r') as f2:\n",
    "    f_content = f2.readline()\n",
    "    print(f_content)\n",
    "    f_content = f2.readline()\n",
    "    print(f_content) "
   ]
  },
  {
   "cell_type": "code",
   "execution_count": 26,
   "id": "9de4709c",
   "metadata": {},
   "outputs": [],
   "source": [
    "# ques5\n",
    "# the with statement works with the open() function to open a file\n",
    "# advantage of using 'with' with open function\n",
    "# unlike open() where you have to close the file with the close() function, the with statement closes the file for you without you telling it to.\n"
   ]
  },
  {
   "cell_type": "code",
   "execution_count": 27,
   "id": "0e8510ca",
   "metadata": {},
   "outputs": [],
   "source": [
    "#ques6\n",
    "# write coomand - writes a specific text to the file\n",
    "# writelines - writes the item of the list to the file as a string"
   ]
  },
  {
   "cell_type": "code",
   "execution_count": 32,
   "id": "d4bb44a3",
   "metadata": {},
   "outputs": [
    {
     "name": "stdout",
     "output_type": "stream",
     "text": [
      "this is my command\n"
     ]
    }
   ],
   "source": [
    "f3 = open('samplefile.txt' ,'w')\n",
    "f3.write(\"this is my command\")\n",
    "f3.close()\n",
    "\n",
    "f3 = open('samplefile.txt' ,'r')\n",
    "print(f3.read())\n"
   ]
  },
  {
   "cell_type": "code",
   "execution_count": 33,
   "id": "3b4a9544",
   "metadata": {},
   "outputs": [
    {
     "name": "stdout",
     "output_type": "stream",
     "text": [
      "my name is anjali \n"
     ]
    }
   ],
   "source": [
    "f4 = open('samplefile.txt' ,'w')\n",
    "li = [\"my \",\"name \",\"is \",\"anjali \"]\n",
    "f4.writelines(li)\n",
    "f4.close()\n",
    "\n",
    "f4 = open('samplefile.txt' ,'r')\n",
    "print(f4.read())\n"
   ]
  },
  {
   "cell_type": "code",
   "execution_count": null,
   "id": "ba534b1e",
   "metadata": {},
   "outputs": [],
   "source": []
  }
 ],
 "metadata": {
  "kernelspec": {
   "display_name": "Python 3 (ipykernel)",
   "language": "python",
   "name": "python3"
  },
  "language_info": {
   "codemirror_mode": {
    "name": "ipython",
    "version": 3
   },
   "file_extension": ".py",
   "mimetype": "text/x-python",
   "name": "python",
   "nbconvert_exporter": "python",
   "pygments_lexer": "ipython3",
   "version": "3.9.12"
  }
 },
 "nbformat": 4,
 "nbformat_minor": 5
}
